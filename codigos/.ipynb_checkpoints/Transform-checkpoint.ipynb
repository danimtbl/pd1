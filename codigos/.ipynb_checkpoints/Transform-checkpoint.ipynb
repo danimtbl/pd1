{
 "cells": [
  {
   "cell_type": "code",
   "execution_count": 1,
   "metadata": {},
   "outputs": [],
   "source": [
    "#imports necessários\n",
    "import datetime as dt\n",
    "from pyspark.sql.types import *\n",
    "from pyspark.sql.functions import *\n",
    "from pyspark import SparkContext, SparkConf\n",
    "from pyspark.sql import SparkSession"
   ]
  },
  {
   "cell_type": "code",
   "execution_count": 2,
   "metadata": {},
   "outputs": [],
   "source": [
    "format = 'parquet'\n",
    "inferSchema = 'false'\n",
    "header = 'false'\n",
    "multiline = 'false'"
   ]
  },
  {
   "cell_type": "code",
   "execution_count": 3,
   "metadata": {},
   "outputs": [],
   "source": [
    "#Configurando spark\n",
    "conf = SparkConf().setAppName('Load').set(\"spark.serializer\", \"org.apache.spark.serializer.KryoSerializer\").set(\"hive.exec.dynamic.partition\", \"true\").set(\"hive.exec.dynamic.partition.mode\", \"nonstrict\")\n",
    "spark = SparkSession.builder.config(conf=conf).enableHiveSupport().getOrCreate()\n"
   ]
  },
  {
   "cell_type": "code",
   "execution_count": 112,
   "metadata": {},
   "outputs": [],
   "source": [
    "filePath1 = 'C:\\\\Users\\\\dbello\\Documents\\\\pd-desafio\\\\raw_data\\\\students\\\\*.parquet'\n",
    "filePath2 = 'C:\\\\Users\\\\dbello\\Documents\\\\pd-desafio\\\\raw_data\\\\courses\\\\*.parquet'\n",
    "filePath3 = 'C:\\\\Users\\\\dbello\\Documents\\\\pd-desafio\\\\raw_data\\\\subjects\\\\*.parquet'\n",
    "filePath4 = 'C:\\\\Users\\\\dbello\\Documents\\\\pd-desafio\\\\raw_data\\\\universities\\\\*.parquet'\n",
    "filePath5 = 'C:\\\\Users\\\\dbello\\Documents\\\\pd-desafio\\\\raw_data\\\\subscriptions\\\\*.parquet'\n",
    "filePath6 = 'C:\\\\Users\\\\dbello\\Documents\\\\pd-desafio\\\\raw_data\\\\sessions\\\\*.parquet'\n",
    "filePath7 = 'C:\\\\Users\\\\dbello\\Documents\\\\pd-desafio\\\\raw_data\\\\*.parquet'"
   ]
  },
  {
   "cell_type": "code",
   "execution_count": 168,
   "metadata": {},
   "outputs": [],
   "source": [
    "df_students = spark.read.format(format) \\\n",
    "                    .option(\"inferSchema\", inferSchema) \\\n",
    "                    .option(\"header\", header) \\\n",
    "                    .option(\"multiLine\", multiline) \\\n",
    "                    .parquet(filePath1)\n",
    "df_courses = spark.read.format(format) \\\n",
    "                    .option(\"inferSchema\", inferSchema) \\\n",
    "                    .option(\"header\", header) \\\n",
    "                    .option(\"multiLine\", multiline) \\\n",
    "                    .parquet(filePath2)\n",
    "df_subjects = spark.read.format(format) \\\n",
    "                    .option(\"inferSchema\", inferSchema) \\\n",
    "                    .option(\"header\", header) \\\n",
    "                    .option(\"multiLine\", multiline) \\\n",
    "                    .parquet(filePath3)\n",
    "df_universities = spark.read.format(format) \\\n",
    "                    .option(\"inferSchema\", inferSchema) \\\n",
    "                    .option(\"header\", header) \\\n",
    "                    .option(\"multiLine\", multiline) \\\n",
    "                    .parquet(filePath4)\n",
    "df_subscriptions = spark.read.format(format) \\\n",
    "                    .option(\"inferSchema\", inferSchema) \\\n",
    "                    .option(\"header\", header) \\\n",
    "                    .option(\"multiLine\", multiline) \\\n",
    "                    .parquet(filePath5)\n",
    "df_sessions = spark.read.format(format) \\\n",
    "                    .option(\"inferSchema\", inferSchema) \\\n",
    "                    .option(\"header\", header) \\\n",
    "                    .option(\"multiLine\", multiline) \\\n",
    "                    .parquet(filePath6)\n",
    "df_student_follow_subject = spark.read.format(format) \\\n",
    "                    .option(\"inferSchema\", inferSchema) \\\n",
    "                    .option(\"header\", header) \\\n",
    "                    .option(\"multiLine\", multiline) \\\n",
    "                    .parquet(filePath7)"
   ]
  },
  {
   "cell_type": "code",
   "execution_count": 169,
   "metadata": {},
   "outputs": [],
   "source": [
    "df_parcial = df_students.join(df_courses,df_students.CourseId == df_courses.Id, how='left').drop(df_courses.Id).drop(df_students.CourseId).withColumnRenamed(\"Name\", \"CourseName\")"
   ]
  },
  {
   "cell_type": "code",
   "execution_count": 176,
   "metadata": {},
   "outputs": [],
   "source": [
    "df_parcial2 = df_parcial.join(df_universities, df_parcial.UniversityId == df_universities.Id, how='left').drop(df_universities.Id).drop(df_parcial.UniversityId).withColumnRenamed(\"Name\", \"UniversityName\").withColumnRenamed(\"StudentClient\", \"StudentClientSignUp\")"
   ]
  },
  {
   "cell_type": "code",
   "execution_count": 177,
   "metadata": {},
   "outputs": [],
   "source": [
    "df_parcial3 = df_parcial2.join(df_subscriptions, df_parcial2.Id == df_subscriptions.StudentId, how='leftouter').drop(df_subscriptions.StudentId)"
   ]
  },
  {
   "cell_type": "code",
   "execution_count": 178,
   "metadata": {},
   "outputs": [],
   "source": [
    "df_parcial4 = df_parcial3.join(df_student_follow_subject, df_parcial3.Id == df_student_follow_subject.StudentId, how='left').drop(df_student_follow_subject.StudentId)"
   ]
  },
  {
   "cell_type": "code",
   "execution_count": 179,
   "metadata": {},
   "outputs": [],
   "source": [
    "df_parcial5 = df_parcial4.join(df_subjects, df_parcial4.SubjectId == df_subjects.Id, how='left').drop(df_subjects.Id).drop(df_parcial4.SubjectId).withColumnRenamed(\"Name\", \"SubjectName\")"
   ]
  },
  {
   "cell_type": "code",
   "execution_count": 180,
   "metadata": {},
   "outputs": [],
   "source": [
    "df_parcial6 = df_parcial5.join(df_sessions, df_parcial5.Id == df_sessions.StudentId, how='left').drop(df_sessions.StudentId).withColumnRenamed(\"StudentClient\", \"StudentClientSession\")"
   ]
  },
  {
   "cell_type": "code",
   "execution_count": 181,
   "metadata": {},
   "outputs": [
    {
     "name": "stdout",
     "output_type": "stream",
     "text": [
      "root\n",
      " |-- City: string (nullable = true)\n",
      " |-- Id: string (nullable = true)\n",
      " |-- RegisteredDate: string (nullable = true)\n",
      " |-- SignupSource: string (nullable = true)\n",
      " |-- State: string (nullable = true)\n",
      " |-- StudentClientSignUp: string (nullable = true)\n",
      " |-- CourseName: string (nullable = true)\n",
      " |-- UniversityName: string (nullable = true)\n",
      " |-- PaymentDate: string (nullable = true)\n",
      " |-- PlanType: string (nullable = true)\n",
      " |-- FollowDate: string (nullable = true)\n",
      " |-- SubjectName: string (nullable = true)\n",
      " |-- SessionStartTime: string (nullable = true)\n",
      " |-- StudentClientSession: string (nullable = true)"
     ]
    }
   ],
   "source": [
    "df_parcial6.printSchema()"
   ]
  },
  {
   "cell_type": "code",
   "execution_count": null,
   "metadata": {},
   "outputs": [],
   "source": [
    "319986\n",
    "1680153"
   ]
  },
  {
   "cell_type": "code",
   "execution_count": 199,
   "metadata": {},
   "outputs": [
    {
     "name": "stdout",
     "output_type": "stream",
     "text": [
      "+--------------------+-----+\n",
      "|         SubjectName|count|\n",
      "+--------------------+-----+\n",
      "|             Direito|  856|\n",
      "|    Direito Penal II| 1519|\n",
      "|  Oscilações e Ondas|    6|\n",
      "|Bombas e Instalaç...|    4|\n",
      "|Teorias Psicanalí...|  796|\n",
      "|Teoria Geral da A...|   27|\n",
      "|    Recursos Humanos|   81|\n",
      "|Administração de ...|  129|\n",
      "|Filosofia da Ling...|    9|\n",
      "|Engenharia da Qua...|   10|\n",
      "|Mecânica Estrutur...|   11|\n",
      "|Fisiologia Clínic...|    1|\n",
      "|Contabilidade Ger...|   41|\n",
      "|Pesquisa Aplicada...|    1|\n",
      "|Segurança e Audit...|    5|\n",
      "|Análise Aplicada ...|    2|\n",
      "|         Perspectiva|    7|\n",
      "|Fundamentos da Me...|   13|\n",
      "|Prática de Ensino...|    6|\n",
      "|Teoria Crítica da...|    6|\n",
      "+--------------------+-----+\n",
      "only showing top 20 rows"
     ]
    }
   ],
   "source": [
    "df_parcial5.groupBy('SubjectName').count().show()"
   ]
  },
  {
   "cell_type": "code",
   "execution_count": 200,
   "metadata": {},
   "outputs": [
    {
     "name": "stdout",
     "output_type": "stream",
     "text": [
      "+-----------------+-----+\n",
      "|             City|count|\n",
      "+-----------------+-----+\n",
      "|         Araruama|  110|\n",
      "|         Rio Novo|    6|\n",
      "|            Apodi|    5|\n",
      "|          Ibiporã|   11|\n",
      "|        Buritizal|    7|\n",
      "|       Itaguatins|    3|\n",
      "|           Pianco|    4|\n",
      "|   Barra Do Choca|    7|\n",
      "|         Macaubas|    6|\n",
      "| Mirante Da Serra|    5|\n",
      "|   Antonio Olinto|    1|\n",
      "|          Mantena|   20|\n",
      "|         Tamarana|    5|\n",
      "|        Rancharia|   21|\n",
      "|         Serrania|    3|\n",
      "|Sao Mateus Do Sul|   11|\n",
      "|            Tapes|    6|\n",
      "|     Tibau Do Sul|    5|\n",
      "|     Juiz de Fora|  882|\n",
      "|        Barbacena|   81|\n",
      "+-----------------+-----+\n",
      "only showing top 20 rows"
     ]
    }
   ],
   "source": [
    "df_parcial5.groupBy('City').count().show()"
   ]
  },
  {
   "cell_type": "code",
   "execution_count": 201,
   "metadata": {},
   "outputs": [
    {
     "name": "stdout",
     "output_type": "stream",
     "text": [
      "+--------+------+\n",
      "|PlanType| count|\n",
      "+--------+------+\n",
      "|    null|314615|\n",
      "|  Mensal|  4906|\n",
      "|   Anual|   465|\n",
      "+--------+------+"
     ]
    }
   ],
   "source": [
    "df_parcial5.groupBy('PlanType').count().show()"
   ]
  },
  {
   "cell_type": "code",
   "execution_count": null,
   "metadata": {},
   "outputs": [],
   "source": []
  }
 ],
 "metadata": {
  "kernelspec": {
   "display_name": "Python 3",
   "language": "python",
   "name": "python3"
  },
  "language_info": {
   "codemirror_mode": {
    "name": "ipython",
    "version": 3
   },
   "file_extension": ".py",
   "mimetype": "text/x-python",
   "name": "python",
   "nbconvert_exporter": "python",
   "pygments_lexer": "ipython3",
   "version": "3.7.3"
  }
 },
 "nbformat": 4,
 "nbformat_minor": 2
}
